{
 "cells": [
  {
   "cell_type": "code",
   "execution_count": 2,
   "id": "4ce5a15c-4797-4515-b593-1d98e9e073a3",
   "metadata": {
    "tags": []
   },
   "outputs": [
    {
     "name": "stdout",
     "output_type": "stream",
     "text": [
      "Requirement already satisfied: virtualenv in c:\\users\\yamam\\appdata\\local\\programs\\python\\python311\\lib\\site-packages (20.23.0)\n",
      "Requirement already satisfied: distlib<1,>=0.3.6 in c:\\users\\yamam\\appdata\\local\\programs\\python\\python311\\lib\\site-packages (from virtualenv) (0.3.6)\n",
      "Requirement already satisfied: filelock<4,>=3.11 in c:\\users\\yamam\\appdata\\local\\programs\\python\\python311\\lib\\site-packages (from virtualenv) (3.12.0)\n",
      "Requirement already satisfied: platformdirs<4,>=3.2 in c:\\users\\yamam\\appdata\\local\\programs\\python\\python311\\lib\\site-packages (from virtualenv) (3.5.0)\n",
      "Note: you may need to restart the kernel to use updated packages.\n"
     ]
    },
    {
     "name": "stderr",
     "output_type": "stream",
     "text": [
      "\n",
      "[notice] A new release of pip available: 22.3.1 -> 23.1.2\n",
      "[notice] To update, run: python.exe -m pip install --upgrade pip\n"
     ]
    }
   ],
   "source": [
    "pip install virtualenv"
   ]
  },
  {
   "cell_type": "code",
   "execution_count": 13,
   "id": "539ab4bd-2419-455a-870b-fbac18a208bf",
   "metadata": {
    "tags": []
   },
   "outputs": [
    {
     "name": "stdout",
     "output_type": "stream",
     "text": [
      "Collecting oauth2client\n",
      "  Downloading oauth2client-4.1.3-py2.py3-none-any.whl (98 kB)\n",
      "     ---------------------------------------- 98.2/98.2 kB 1.4 MB/s eta 0:00:00\n",
      "Requirement already satisfied: httplib2>=0.9.1 in c:\\users\\yamam\\appdata\\local\\programs\\python\\python311\\lib\\site-packages (from oauth2client) (0.22.0)\n",
      "Requirement already satisfied: pyasn1>=0.1.7 in c:\\users\\yamam\\appdata\\local\\programs\\python\\python311\\lib\\site-packages (from oauth2client) (0.5.0)\n",
      "Requirement already satisfied: pyasn1-modules>=0.0.5 in c:\\users\\yamam\\appdata\\local\\programs\\python\\python311\\lib\\site-packages (from oauth2client) (0.3.0)\n",
      "Requirement already satisfied: rsa>=3.1.4 in c:\\users\\yamam\\appdata\\local\\programs\\python\\python311\\lib\\site-packages (from oauth2client) (4.9)\n",
      "Requirement already satisfied: six>=1.6.1 in c:\\users\\yamam\\appdata\\local\\programs\\python\\python311\\lib\\site-packages (from oauth2client) (1.16.0)\n",
      "Requirement already satisfied: pyparsing!=3.0.0,!=3.0.1,!=3.0.2,!=3.0.3,<4,>=2.4.2 in c:\\users\\yamam\\appdata\\local\\programs\\python\\python311\\lib\\site-packages (from httplib2>=0.9.1->oauth2client) (3.0.9)\n",
      "Installing collected packages: oauth2client\n",
      "Successfully installed oauth2client-4.1.3\n",
      "Note: you may need to restart the kernel to use updated packages.\n"
     ]
    },
    {
     "name": "stderr",
     "output_type": "stream",
     "text": [
      "\n",
      "[notice] A new release of pip available: 22.3.1 -> 23.1.2\n",
      "[notice] To update, run: python.exe -m pip install --upgrade pip\n"
     ]
    }
   ],
   "source": [
    "pip install oauth2client"
   ]
  },
  {
   "cell_type": "code",
   "execution_count": 14,
   "id": "79e4fe02-9030-40e7-8842-c281d272906d",
   "metadata": {
    "tags": []
   },
   "outputs": [
    {
     "ename": "NameError",
     "evalue": "name '__file__' is not defined",
     "output_type": "error",
     "traceback": [
      "\u001b[1;31m---------------------------------------------------------------------------\u001b[0m",
      "\u001b[1;31mNameError\u001b[0m                                 Traceback (most recent call last)",
      "Cell \u001b[1;32mIn[14], line 17\u001b[0m\n\u001b[0;32m      9\u001b[0m \u001b[38;5;28;01mfrom\u001b[39;00m \u001b[38;5;21;01moauth2client\u001b[39;00m\u001b[38;5;21;01m.\u001b[39;00m\u001b[38;5;21;01mtools\u001b[39;00m \u001b[38;5;28;01mimport\u001b[39;00m argparser, run_flow\n\u001b[0;32m     12\u001b[0m CLIENT_SECRETS_FILE \u001b[38;5;241m=\u001b[39m \u001b[38;5;124m\"\u001b[39m\u001b[38;5;124mclient_secrets.json\u001b[39m\u001b[38;5;124m\"\u001b[39m\n\u001b[0;32m     15\u001b[0m MISSING_CLIENT_SECRETS_MESSAGE \u001b[38;5;241m=\u001b[39m \u001b[38;5;124m\"\"\"\u001b[39m\n\u001b[0;32m     16\u001b[0m \n\u001b[1;32m---> 17\u001b[0m \u001b[38;5;124m\"\"\"\u001b[39m \u001b[38;5;241m%\u001b[39m os\u001b[38;5;241m.\u001b[39mpath\u001b[38;5;241m.\u001b[39mabspath(os\u001b[38;5;241m.\u001b[39mpath\u001b[38;5;241m.\u001b[39mjoin(os\u001b[38;5;241m.\u001b[39mpath\u001b[38;5;241m.\u001b[39mdirname(\u001b[38;5;18;43m__file__\u001b[39;49m),\n\u001b[0;32m     18\u001b[0m                                    CLIENT_SECRETS_FILE))\n\u001b[0;32m     20\u001b[0m YOUTUBE_SCOPE \u001b[38;5;241m=\u001b[39m \u001b[38;5;124m\"\u001b[39m\u001b[38;5;124mhttps://www.googleapis.com/auth/youtube\u001b[39m\u001b[38;5;124m\"\u001b[39m\n\u001b[0;32m     21\u001b[0m YOUTUBE_API_SERVICE_NAME \u001b[38;5;241m=\u001b[39m \u001b[38;5;124m\"\u001b[39m\u001b[38;5;124myoutube\u001b[39m\u001b[38;5;124m\"\u001b[39m\n",
      "\u001b[1;31mNameError\u001b[0m: name '__file__' is not defined"
     ]
    }
   ],
   "source": [
    "import httplib2\n",
    "import os\n",
    "import sys\n",
    "\n",
    "from apiclient.discovery import build\n",
    "from apiclient.errors import HttpError\n",
    "from oauth2client.client import flow_from_clientsecrets\n",
    "from oauth2client.file import Storage\n",
    "from oauth2client.tools import argparser, run_flow\n",
    "\n",
    "\n",
    "CLIENT_SECRETS_FILE = \"client_secrets.json\"\n",
    "\n",
    "\n",
    "MISSING_CLIENT_SECRETS_MESSAGE = \"\"\"\n",
    "\n",
    "\"\"\" % os.path.abspath(os.path.join(os.path.dirname(__file__),\n",
    "                                   CLIENT_SECRETS_FILE))\n",
    "\n",
    "YOUTUBE_SCOPE = \"https://www.googleapis.com/auth/youtube\"\n",
    "YOUTUBE_API_SERVICE_NAME = \"youtube\"\n",
    "YOUTUBE_API_VERSION = \"v3\"\n",
    "\n",
    "# If offsetMs is not valid, the API will throw an error\n",
    "VALID_OFFSET_TYPES = (\"offsetFromEnd\", \"offsetFromStart\",)\n",
    "\n",
    "def get_authenticated_service(args):\n",
    "    flow = flow_from_clientsecrets(CLIENT_SECRETS_FILE, scope=YOUTUBE_SCOPE,\n",
    "    message=MISSING_CLIENT_SECRETS_MESSAGE)\n",
    "\n",
    "    storage = Storage(\"%s-oauth2.json\" % sys.argv[0])\n",
    "    credentials = storage.get()\n",
    "\n",
    "    if credentials is None or credentials.invalid:\n",
    "        credentials = run_flow(flow, storage, args)\n",
    "\n",
    "    return build(YOUTUBE_API_SERVICE_NAME, YOUTUBE_API_VERSION,\n",
    "    http=credentials.authorize(httplib2.Http()))\n",
    "\n",
    "def add_featured_video(youtube, options):\n",
    "    add_video_request = youtube.channels().update(\n",
    "    part=\"invideoPromotion\",\n",
    "\n",
    "    body={\n",
    "      \"invideoPromotion\": {\n",
    "        \"items\": [{\n",
    "          \"id\": {\n",
    "            \"type\": \"video\",\n",
    "            \"videoId\": options.video_id\n",
    "          },\n",
    "          \"timing\": {\n",
    "            \"offsetMs\": options.offset_ms,\n",
    "            \"type\": options.offset_type\n",
    "          }\n",
    "        }],\n",
    "      },\n",
    "      \"id\": options.channel_id\n",
    "    }).execute()\n",
    "\n",
    "if __name__ == '__main__':\n",
    "    argparser.add_argument(\"--channel-id\", required=True,\n",
    "    help=\"Channel ID of the channel to add a featured video\")\n",
    "    argparser.add_argument(\"--video-id\",  required=True,\n",
    "    help=\"Video ID to feature on your channel\")\n",
    "    argparser.add_argument(\"--offset-ms\",\n",
    "    help=\"Offset in milliseconds to show video.\",\n",
    "    default=\"10000\")\n",
    "    argparser.add_argument(\"--offset-type\", choices=VALID_OFFSET_TYPES,\n",
    "    help=\"Whether the offset is from the beginning or end of video playback.\",\n",
    "    default=VALID_OFFSET_TYPES[0])\n",
    "    args = argparser.parse_args()\n",
    "\n",
    "    youtube = get_authenticated_service(args)\n",
    "    try:\n",
    "        add_featured_video(youtube, args)\n",
    "    except (HttpError, e):\n",
    "        print (\"An HTTP error %d occurred:\\n%s\" % (e.resp.status, e.content))\n",
    "    else:\n",
    "        print (\"Added featured video %s to channel %s.\" % (\n",
    "          args.video_id, args.channel_id))"
   ]
  },
  {
   "cell_type": "code",
   "execution_count": null,
   "id": "e59e3410-e121-4019-90f7-63dfaacc0179",
   "metadata": {},
   "outputs": [],
   "source": []
  }
 ],
 "metadata": {
  "kernelspec": {
   "display_name": "Python 3 (ipykernel)",
   "language": "python",
   "name": "python3"
  },
  "language_info": {
   "codemirror_mode": {
    "name": "ipython",
    "version": 3
   },
   "file_extension": ".py",
   "mimetype": "text/x-python",
   "name": "python",
   "nbconvert_exporter": "python",
   "pygments_lexer": "ipython3",
   "version": "3.11.3"
  }
 },
 "nbformat": 4,
 "nbformat_minor": 5
}
